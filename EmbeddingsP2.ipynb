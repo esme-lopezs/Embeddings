{
 "cells": [
  {
   "cell_type": "markdown",
   "metadata": {},
   "source": [
    "## Bibliotecas"
   ]
  },
  {
   "cell_type": "code",
   "execution_count": null,
   "metadata": {},
   "outputs": [],
   "source": [
    "import pandas as pd\n",
    "import numpy as np\n",
    "import os\n",
    "import pickle\n",
    "from sentence_transformers import SentenceTransformer\n",
    "from sklearn.metrics.pairwise import cosine_similarity"
   ]
  },
  {
   "cell_type": "markdown",
   "metadata": {},
   "source": [
    "## Modelos y campos"
   ]
  },
  {
   "cell_type": "code",
   "execution_count": 2,
   "metadata": {},
   "outputs": [],
   "source": [
    "MODELOS = {\n",
    "    \"sentence_similarity\": 'hiiamsid/sentence_similarity_spanish_es',\n",
    "    \"sentence-transformers 1\": 'uzairnaeem/finetuned_sentence_similarity_spanish_es',\n",
    "    \"sentence-transformers 2\": \"mrm8488/modernbert-embed-base-ft-sts-spanish-matryoshka-768-64-5e\",\n",
    "    \"sentence-transformers 3\" : 'Santp98/SBERT-pairs-bert-base-spanish-wwm-cased'\n",
    "}\n",
    "\n",
    "CAMPOS = [\"Titulo\", \"resumen\", \"objetivos\", \"claves\"]\n",
    "\n",
    "df = pd.read_csv(\"protocolos_completo_limpios.csv\")"
   ]
  },
  {
   "cell_type": "markdown",
   "metadata": {},
   "source": [
    "## Comparaciones y creación de tabla de consultas"
   ]
  },
  {
   "cell_type": "code",
   "execution_count": 17,
   "metadata": {},
   "outputs": [
    {
     "name": "stdout",
     "output_type": "stream",
     "text": [
      "\n",
      "Consulta:  Influencia de la alimentación en el rendimiento deportivo\n",
      "Procesando modelo: sentence_similarity\n",
      "Procesando modelo: sentence-transformers 1\n",
      "Procesando modelo: sentence-transformers 2\n",
      "Procesando modelo: sentence-transformers 3\n"
     ]
    }
   ],
   "source": [
    "# Solicitar consulta al usuario\n",
    "while True:\n",
    "    query = input(\"Ingresa el texto para comparar: \").strip()\n",
    "    if not query:\n",
    "        print(\"Consulta vacía. Por favor, ingresa un texto.\")\n",
    "        continue\n",
    "    print(\"\\nConsulta: \", query)\n",
    "    break\n",
    "\n",
    "filas_tabla = []\n",
    "\n",
    "# comparación con cada modelo\n",
    "for clave_modelo, nombre_modelo in MODELOS.items():\n",
    "    print(f\"Procesando modelo: {clave_modelo}\")\n",
    "    modelo = SentenceTransformer(nombre_modelo)\n",
    "    df_temp = df.copy()\n",
    "\n",
    "    for campo in CAMPOS:\n",
    "        nombre_pkl = f\"{campo}_{clave_modelo}_embeddings.pkl\"\n",
    "        ruta_pkl = os.path.join(\"PKL\", nombre_pkl)\n",
    "\n",
    "        if not os.path.exists(ruta_pkl):\n",
    "            print(f\"No se encontró el archivo {ruta_pkl}\")\n",
    "            continue\n",
    "\n",
    "        with open(ruta_pkl, \"rb\") as f:\n",
    "            embeddings_cargados = pickle.load(f)\n",
    "\n",
    "        embedding_query = modelo.encode(query, convert_to_tensor=False)\n",
    "        sim_coseno = cosine_similarity([embedding_query], embeddings_cargados)[0]\n",
    "        df_temp[f\"similitud_{campo}\"] = sim_coseno\n",
    "\n",
    "    columnas_sim = [f\"similitud_{c}\" for c in CAMPOS if f\"similitud_{c}\" in df_temp.columns]\n",
    "    if not columnas_sim:\n",
    "        continue\n",
    "\n",
    "    df_temp[\"similitud_total\"] = df_temp[columnas_sim].sum(axis=1)\n",
    "    df_top = df_temp.sort_values(\"similitud_total\", ascending=False).head(5)\n",
    "\n",
    "    for i, (_, fila) in enumerate(df_top.iterrows(), start=1):\n",
    "        for campo in CAMPOS:\n",
    "            texto = fila[campo]\n",
    "            fila_resultado = {\n",
    "                \"Modelo\": clave_modelo,\n",
    "                \"Consulta\": query if campo == \"Titulo\" and i == 1 else \"\",\n",
    "                \"No. Resultado más parecido\": i,\n",
    "                \"Campo\": campo,\n",
    "                \"Texto\": texto,\n",
    "                \"Similitud\": fila.get(f\"similitud_\" + campo, 0),\n",
    "                \"Justificación\": \"\"\n",
    "            }\n",
    "            filas_tabla.append(fila_resultado)\n",
    "\n",
    "        filas_tabla.append({\n",
    "            \"Modelo\": clave_modelo,\n",
    "            \"Consulta\": \"\",\n",
    "            \"No. Resultado más parecido\": i,\n",
    "            \"Campo\": \"TOTAL\",\n",
    "            \"Texto\": \"\",\n",
    "            \"Similitud\": fila[\"similitud_total\"],\n",
    "            \"Justificación\": \"\"\n",
    "        })\n",
    "\n",
    "df_nuevos = pd.DataFrame(filas_tabla)\n",
    "df_nuevos = df_nuevos.loc[:, ~df_nuevos.columns.duplicated()]\n",
    "nombre_archivo = \"tabla_consultas.csv\"\n",
    "\n",
    "if os.path.exists(nombre_archivo):\n",
    "    df_existente = pd.read_csv(nombre_archivo)\n",
    "    df_nuevos = df_nuevos[df_existente.columns]\n",
    "    df_final = pd.concat([df_existente, df_nuevos], ignore_index=True)\n",
    "else:\n",
    "    df_final = df_nuevos\n",
    "\n",
    "df_final.to_csv(nombre_archivo, index=False)"
   ]
  }
 ],
 "metadata": {
  "kernelspec": {
   "display_name": "Python 3",
   "language": "python",
   "name": "python3"
  },
  "language_info": {
   "codemirror_mode": {
    "name": "ipython",
    "version": 3
   },
   "file_extension": ".py",
   "mimetype": "text/x-python",
   "name": "python",
   "nbconvert_exporter": "python",
   "pygments_lexer": "ipython3",
   "version": "3.11.9"
  }
 },
 "nbformat": 4,
 "nbformat_minor": 2
}
